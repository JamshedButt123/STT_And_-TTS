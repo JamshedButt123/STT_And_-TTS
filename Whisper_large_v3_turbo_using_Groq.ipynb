{
  "cells": [
    {
      "cell_type": "code",
      "execution_count": null,
      "metadata": {
        "id": "xe3KXkCXCJTO"
      },
      "outputs": [],
      "source": [
        "pip install groq"
      ]
    },
    {
      "cell_type": "code",
      "execution_count": null,
      "metadata": {
        "id": "HkHa5l9a9uLw"
      },
      "outputs": [],
      "source": [
        "import os\n",
        "from groq import Groq\n",
        "\n",
        "# Initialize the Groq client\n",
        "client = Groq(api_key=\"\")"
      ]
    },
    {
      "cell_type": "markdown",
      "metadata": {
        "id": "FjBgQiXeNYxs"
      },
      "source": [
        "## GROQ"
      ]
    },
    {
      "cell_type": "code",
      "execution_count": null,
      "metadata": {
        "id": "aG3ff49t-h4D"
      },
      "outputs": [],
      "source": [
        "def stt_audio(file_path):\n",
        "\n",
        "  filename =  file_path\n",
        "  with open(filename, \"rb\") as file:\n",
        "      transcription = client.audio.transcriptions.create(\n",
        "        file=(filename, file.read()),\n",
        "        model=\"whisper-large-v3-turbo\",\n",
        "        # language = \"ur\",\n",
        "        temperature=0.07\n",
        "      )\n",
        "      print(transcription.text)\n"
      ]
    },
    {
      "cell_type": "markdown",
      "metadata": {
        "id": "S9pXlAhY8BzH"
      },
      "source": [
        "## English"
      ]
    },
    {
      "cell_type": "code",
      "execution_count": null,
      "metadata": {
        "colab": {
          "base_uri": "https://localhost:8080/"
        },
        "id": "y3kc5BnrCN7m",
        "outputId": "5e61aa04-0179-4e3f-8477-4683914de61d"
      },
      "outputs": [
        {
          "name": "stdout",
          "output_type": "stream",
          "text": [
            " Crosskill planned several additional subdivisions, some of which were wildly optimistic.\n",
            "English 1 --------------------\n",
            " The Massachusetts Division of Fisheries and Wildlife has stocked the Jones River with trout.\n",
            "English 2 --------------------\n"
          ]
        }
      ],
      "source": [
        "english_1 = stt_audio(\"/content/drive/MyDrive/fabtechsol/whisper-testing data/english-1.mp3\")\n",
        "print(\"English 1 --------------------\")\n",
        "\n",
        "english_2 = stt_audio(\"/content/drive/MyDrive/fabtechsol/whisper-testing data/english-2.mp3\")\n",
        "print(\"English 2 --------------------\")\n"
      ]
    },
    {
      "cell_type": "markdown",
      "metadata": {
        "id": "TfbDkzKi8kCk"
      },
      "source": [
        "## Spanish\n",
        "\n",
        "original\n",
        "\n",
        "1. fray Lope , en aquel momento , colmaba otro vaso igual :\n",
        "\n",
        "2. Fueron los primeros en gestionar tráfico en tiempo real en una red conmutada.\n",
        "\n",
        "\n"
      ]
    },
    {
      "cell_type": "code",
      "execution_count": null,
      "metadata": {
        "colab": {
          "base_uri": "https://localhost:8080/"
        },
        "id": "zcp2ztMV8jw0",
        "outputId": "d5f8ed1e-ece0-4331-a5c0-a55e021a3a9f"
      },
      "outputs": [
        {
          "name": "stdout",
          "output_type": "stream",
          "text": [
            " Fray Lope en aquel momento colmaba otro vaso igual.\n",
            "Spanish 1 --------------------\n",
            " Fueron los primeros en gestionar tráfico en tiempo real en una red conmutada.\n",
            "Spanish 2 --------------------\n"
          ]
        }
      ],
      "source": [
        "spanish_1 = stt_audio(\"/content/drive/MyDrive/fabtechsol/whisper-testing data/spanish_1_audio.mp3\")\n",
        "print(\"Spanish 1 --------------------\")\n",
        "\n",
        "spanish_2 = stt_audio(\"/content/drive/MyDrive/fabtechsol/whisper-testing data/spanish_2_audio.mp3\")\n",
        "print(\"Spanish 2 --------------------\")\n"
      ]
    },
    {
      "cell_type": "markdown",
      "metadata": {
        "id": "HlEvGGQfAiuR"
      },
      "source": [
        "## Franch\n",
        "## Original  answer\n",
        "1. Winterhausen est situé sur la rive gauche du Main en face de Sommerhausen.\n",
        "2. Des chevaux ardennais permettaient d'acheminer les produits dans les fermes des alentours."
      ]
    },
    {
      "cell_type": "code",
      "execution_count": null,
      "metadata": {
        "colab": {
          "base_uri": "https://localhost:8080/"
        },
        "id": "xueEOhLiAouP",
        "outputId": "b137efbd-50c2-432c-c47e-6f29d28b0fd0"
      },
      "outputs": [
        {
          "name": "stdout",
          "output_type": "stream",
          "text": [
            " Winter Hosen est situé sur la rue gauche du Main, en face de Sommer Hosen.\n",
            "Franch 1 --------------------\n",
            " Des chevaux ardennés permettaient d'acheminer les produits dans les fermes des alentours.\n",
            "Franch 2 --------------------\n"
          ]
        }
      ],
      "source": [
        "Franch_1 = stt_audio(\"/content/drive/MyDrive/fabtechsol/whisper-testing data/franch_1_audio.mp3\")\n",
        "print(\"Franch 1 --------------------\")\n",
        "\n",
        "Franch_2 = stt_audio(\"/content/drive/MyDrive/fabtechsol/whisper-testing data/franch_2_audio.mp3\")\n",
        "print(\"Franch 2 --------------------\")\n"
      ]
    },
    {
      "cell_type": "markdown",
      "metadata": {
        "id": "7y_rWzWXCpWK"
      },
      "source": [
        "## German\n",
        "1. Aber die Vereinigten Staaten prahlen damit, die bedeutendste Demokratie der Welt zu sein.\n",
        "2. Er ist Barkeeper im gleichen Club wie Bess und damit ihr Arbeitskollege."
      ]
    },
    {
      "cell_type": "code",
      "execution_count": null,
      "metadata": {
        "colab": {
          "base_uri": "https://localhost:8080/"
        },
        "id": "nqpwNkNFDHR5",
        "outputId": "84d90ada-888b-4864-bcde-b42bc92e5826"
      },
      "outputs": [
        {
          "name": "stdout",
          "output_type": "stream",
          "text": [
            " Aber die Vereinigten Staaten prahlen damit, die bedeutendste Demokratie der Welt zu sein.\n",
            "German 1 --------------------\n",
            " Er ist Barkeeper im gleichen Club wie Bess und damit Ihr Arbeitskollege.\n",
            "German 2 --------------------\n"
          ]
        }
      ],
      "source": [
        "German_1 = stt_audio(\"/content/drive/MyDrive/fabtechsol/whisper-testing data/German_1_audio.mp3\")\n",
        "print(\"German 1 --------------------\")\n",
        "\n",
        "German_2 = stt_audio(\"/content/drive/MyDrive/fabtechsol/whisper-testing data/German_2_audio.mp3\")\n",
        "print(\"German 2 --------------------\")\n"
      ]
    },
    {
      "cell_type": "markdown",
      "metadata": {
        "id": "cYmM1k5SDywv"
      },
      "source": [
        "## Italian\n",
        "\n",
        "Original Answer\n",
        "\n",
        "1. Subì l'invasione longobarda e successivamente assunse l'aspetto di un castello arroccato sul colle.\n",
        "2. Quest'ultimo, riadattamento del brano \"Breakfast in America\" dei Supertramp, si rivelò un successo clamoroso."
      ]
    },
    {
      "cell_type": "code",
      "execution_count": null,
      "metadata": {
        "colab": {
          "base_uri": "https://localhost:8080/"
        },
        "id": "nV-VxM0FDySj",
        "outputId": "c1537703-fc80-4d8b-e928-1952de3c9138"
      },
      "outputs": [
        {
          "name": "stdout",
          "output_type": "stream",
          "text": [
            " Subì l'invasione all'ongobarda e successivamente assunse l'aspetto di un castello arruccato sul colle.\n",
            "Italian 1 --------------------\n",
            " Quest'ultimo riadattamento del brano Breakfast in America di Supertrump si rivelò un successo clamoroso.\n",
            "Italian 2 --------------------\n"
          ]
        }
      ],
      "source": [
        "Italian_1 = stt_audio(\"/content/drive/MyDrive/fabtechsol/whisper-testing data/italian_1_audio.mp3\")\n",
        "print(\"Italian 1 --------------------\")\n",
        "\n",
        "Italian_2 = stt_audio(\"/content/drive/MyDrive/fabtechsol/whisper-testing data/italian_2_audio.mp3\")\n",
        "print(\"Italian 2 --------------------\")\n"
      ]
    },
    {
      "cell_type": "markdown",
      "metadata": {
        "id": "F2vFYkCiSMEO"
      },
      "source": [
        " ## Urdu\n",
        " 1. دوسرا اس وجہ سے کہ اس کی پشت پر ذرائع ابلاغ ہیں۔\n",
        "2. چیئرمین پیس بی کی نیوزی لینڈ کو دورہ پاکستان کی پیشکش"
      ]
    },
    {
      "cell_type": "code",
      "execution_count": null,
      "metadata": {
        "colab": {
          "base_uri": "https://localhost:8080/"
        },
        "id": "SYkgzrnjSmVO",
        "outputId": "bb065e05-2563-4714-a265-b3a575c6a29b"
      },
      "outputs": [
        {
          "name": "stdout",
          "output_type": "stream",
          "text": [
            " دوسرا اس وجہ سے کہ اس کی پشت پر ذرائع عبالغہ ہے\n",
            "Italian 1 --------------------\n",
            " چیئرمین پی سی بی کی نیوزی لینڈ کو دورے پاکستان کی پیشکش\n",
            "Italian 2 --------------------\n"
          ]
        }
      ],
      "source": [
        "urdu_1 = stt_audio(\"/content/drive/MyDrive/fabtechsol/whisper-testing data/urdu_1_audio.mp3\")\n",
        "print(\"Urdu 1 --------------------\")\n",
        "\n",
        "urdu_2 = stt_audio(\"/content/drive/MyDrive/fabtechsol/whisper-testing data/urdu_2_audio.mp3\")\n",
        "print(\"Urdu 2 --------------------\")\n"
      ]
    },
    {
      "cell_type": "markdown",
      "metadata": {
        "id": "bVpgu7IsTk3U"
      },
      "source": [
        "##Turkish\n",
        "1. Sadece vızıldayarak ağlıyor, anlaşılmaz küfürler mırıldanıyordu.\n",
        "2. Gündüzleri köy boşalınca geride kalan iki büklüm ihtiyarların bile yanakları al aldı."
      ]
    },
    {
      "cell_type": "code",
      "execution_count": null,
      "metadata": {
        "colab": {
          "base_uri": "https://localhost:8080/"
        },
        "id": "1m16dIvKTo5M",
        "outputId": "493edca1-61d2-4e2b-e100-c14f41db4298"
      },
      "outputs": [
        {
          "name": "stdout",
          "output_type": "stream",
          "text": [
            " Sadece vızıldayarak ağlıyor, anlaşılmaz küfürler mırıldanıyordu.\n",
            "Turkish 1 --------------------\n",
            " Gündüzleri köy boşalınca geride kalan iki büklüm ihtiyarların bile yanakları alaldı.\n",
            "Turkish 2 --------------------\n"
          ]
        }
      ],
      "source": [
        "Turkish_1 = stt_audio(\"/content/drive/MyDrive/fabtechsol/whisper-testing data/Turkish_1_audio.mp3\")\n",
        "print(\"Turkish 1 --------------------\")\n",
        "\n",
        "Turkish_2 = stt_audio(\"/content/drive/MyDrive/fabtechsol/whisper-testing data/Turkish_2_audio.mp3\")\n",
        "print(\"Turkish 2 --------------------\")\n"
      ]
    },
    {
      "cell_type": "markdown",
      "metadata": {
        "id": "Q-N6jMALUpbR"
      },
      "source": [
        "## Swedish\n",
        "1. Jag hade aldrig trott att jag skulle säga att jag kommer att sakna dig.\n",
        "2. Tyvärr har områdets skönhet bleknat en del sedan ni reste."
      ]
    },
    {
      "cell_type": "code",
      "execution_count": null,
      "metadata": {
        "colab": {
          "base_uri": "https://localhost:8080/"
        },
        "id": "44vxmOv4UtKD",
        "outputId": "5b484e90-1312-4012-f694-9444c46fa06d"
      },
      "outputs": [
        {
          "name": "stdout",
          "output_type": "stream",
          "text": [
            " Ég er aldrei trott att jag skulle säga att jag kommer sakna dig.\n",
            "Swedish 1 --------------------\n",
            " Tyvärr har områdets skönhet bleknat en del sedan det reste.\n",
            "Swedish 2 --------------------\n"
          ]
        }
      ],
      "source": [
        "Swedish_1 = stt_audio(\"/content/drive/MyDrive/fabtechsol/whisper-testing data/swedish_1_audio.mp3\")\n",
        "print(\"Swedish 1 --------------------\")\n",
        "\n",
        "Swedish_2 = stt_audio(\"/content/drive/MyDrive/fabtechsol/whisper-testing data/swedish_2_audio.mp3\")\n",
        "print(\"Swedish 2 --------------------\")\n"
      ]
    }
  ],
  "metadata": {
    "colab": {
      "provenance": []
    },
    "kernelspec": {
      "display_name": "Python 3",
      "name": "python3"
    },
    "language_info": {
      "name": "python"
    }
  },
  "nbformat": 4,
  "nbformat_minor": 0
}
